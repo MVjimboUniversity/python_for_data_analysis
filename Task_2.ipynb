{
 "cells": [
  {
   "cell_type": "markdown",
   "metadata": {},
   "source": [
    "# Задание 2.\n",
    "\n",
    "**NB. Все упражнения ниже нужно делать без использования циклов Python в явном (`while`, `for`) и неявном виде (list comprehension, `map`, `reduce` и пр)**"
   ]
  },
  {
   "cell_type": "code",
   "execution_count": null,
   "metadata": {},
   "outputs": [],
   "source": [
    "%matplotlib inline\n",
    "\n",
    "import numpy as np\n",
    "import matplotlib.pyplot as plt\n",
    "import seaborn as sns\n",
    "sns.set_theme()\n",
    "\n",
    "\n",
    "A = np.random.randint(0, 100, size=(200, 50))\n",
    "A"
   ]
  },
  {
   "cell_type": "markdown",
   "metadata": {},
   "source": [
    "# Задание 2.1 (2 балла)\n",
    "\n",
    "Сгенерируйте новый массив, в котором столбцы массива `A` переставлены в случайном порядке"
   ]
  },
  {
   "cell_type": "code",
   "execution_count": null,
   "metadata": {},
   "outputs": [],
   "source": [
    "A.T[np.random.choice(A.T.shape[0], size=A.T.shape[0], replace=False)].T"
   ]
  },
  {
   "cell_type": "markdown",
   "metadata": {},
   "source": [
    "# Задание 2.2 (5 баллов)\n",
    "\n",
    "Сгенерируйте новый массив, который содержит только те строки массива `A`, в которых: \n",
    "- сумма элементов по четным столбцам (индексы $0, 2, \\ldots$) больше среднего значения (по всему массиву) суммы элементов по нечетным столбцам (индексы $1, 3, \\ldots$) "
   ]
  },
  {
   "cell_type": "code",
   "execution_count": null,
   "metadata": {},
   "outputs": [],
   "source": [
    "A[np.sum(A[:, 0::2], axis=1) > np.mean(np.sum(A[:, 1::2], axis=1))]"
   ]
  },
  {
   "cell_type": "markdown",
   "metadata": {},
   "source": [
    "# Задача 2.3 (3 балла)\n",
    "\n",
    "Найдите индекс строки массива `A`, в которой разница между максимальным и минимальным элементом максимальна"
   ]
  },
  {
   "cell_type": "code",
   "execution_count": null,
   "metadata": {},
   "outputs": [],
   "source": [
    "np.argmax(np.max(A, axis=1) - np.min(A, axis=1))"
   ]
  },
  {
   "cell_type": "markdown",
   "metadata": {},
   "source": [
    "# Задание 2.4 (7 баллов)\n",
    "\n",
    "Сгенерируйте массив той же размерности, что и `A`, но в котором каждый элемент заменен на его порядковый номер (начиная с 1) в отсортированном по возрастанию массиве из элементов `A`\n",
    "\n",
    "Если `A` выглядит так:\n",
    "$$\n",
    "\\begin{pmatrix}\n",
    "12 & 14\\\\\n",
    "1 & 2\n",
    "\\end{pmatrix}\n",
    "$$\n",
    "то результат должен быть\n",
    "$$\n",
    "\\begin{pmatrix}\n",
    "3 & 4\\\\\n",
    "1 & 2\n",
    "\\end{pmatrix}\n",
    "$$\n",
    "\n",
    "*Tip: рассмотрите возможность неоднократного применения [argsort()](https://numpy.org/doc/stable/reference/generated/numpy.ndarray.argsort.html)*"
   ]
  },
  {
   "cell_type": "code",
   "execution_count": null,
   "metadata": {},
   "outputs": [],
   "source": [
    "arr_new = A.reshape(1,-1)\n",
    "arr_new = arr_new.argsort().argsort() + 1\n",
    "arr_new.reshape(A.shape)"
   ]
  },
  {
   "cell_type": "markdown",
   "metadata": {},
   "source": [
    "# Задание 2.5 (2 балла)\n",
    "\n",
    "Примените $\\min-\\max$ - нормализацию к строкам массива `A`. То есть нужно получить новый массивы, в каждой строке которого максимальный элементы равен $1$, минимальный - $0$. "
   ]
  },
  {
   "cell_type": "code",
   "execution_count": null,
   "metadata": {},
   "outputs": [],
   "source": [
    "min_arr = A.min(axis=1).reshape((-1,1))\n",
    "max_arr = A.max(axis=1).reshape((-1,1))\n",
    "(A - min_arr)/(max_arr - min_arr)"
   ]
  },
  {
   "cell_type": "markdown",
   "metadata": {},
   "source": [
    "# Задание 2.6 (2 балла)\n",
    "\n",
    "Сгенерируйте новый трехмерный массив, размерности $10 \\times 200 \\times 50$. Подмассивы по нулевой оси должны состоять из элементов `A`, умноженных на $1 - 10$ соответственно"
   ]
  },
  {
   "cell_type": "code",
   "execution_count": null,
   "metadata": {},
   "outputs": [],
   "source": [
    "(A.reshape((-1, *A.shape)) * np.arange(1, 11).reshape((-1, 1, 1)))"
   ]
  },
  {
   "cell_type": "markdown",
   "metadata": {},
   "source": [
    "# Задание 2.7 (2 балла)\n",
    "\n",
    "Создайте новый массив, такой же размерности, как и `A`, в котором сначала сгруппированы четные столбцы `A`, потом  нечетные. Используйте [np.concat()](https://numpy.org/doc/stable/reference/generated/numpy.concatenate.html) "
   ]
  },
  {
   "cell_type": "code",
   "execution_count": null,
   "metadata": {},
   "outputs": [],
   "source": [
    "np.concatenate((A[:, 0::2], A[:, 1::2]), axis=1)"
   ]
  },
  {
   "cell_type": "markdown",
   "metadata": {},
   "source": [
    "# Задание 2.8 (2 балла)\n",
    "\n",
    "Посчитайте количество строк массива `A`, в который все элементы больше 5. Используйте [np.all()](https://numpy.org/doc/stable/reference/generated/numpy.all.html) "
   ]
  },
  {
   "cell_type": "code",
   "execution_count": null,
   "metadata": {},
   "outputs": [],
   "source": [
    "np.sum(np.all((A > 5), axis=1))"
   ]
  },
  {
   "cell_type": "markdown",
   "metadata": {},
   "source": [
    "# Задание 2.9 (2 балла)\n",
    "\n",
    "Поделите массив `A` горизонтально на 10 частей и создайте новый массив размерности $20 \\times 50$, который является средним этих частей. Используйте [np.split()](https://numpy.org/doc/stable/reference/generated/numpy.split.html)"
   ]
  },
  {
   "cell_type": "code",
   "execution_count": null,
   "metadata": {},
   "outputs": [],
   "source": [
    "np.mean(np.split(A, 10), axis=0)"
   ]
  },
  {
   "cell_type": "markdown",
   "metadata": {},
   "source": [
    "# Задание 2.10 (4 балла)\n",
    "\n",
    "\"Разверните\" массив `A` в одномерный массив. Оставьте в нём только уникальные элементы в том же порядке, в котором они встречаются в массиве. Используйте [np.unique()](https://numpy.org/doc/stable/reference/generated/numpy.unique.html)"
   ]
  },
  {
   "cell_type": "code",
   "execution_count": null,
   "metadata": {},
   "outputs": [],
   "source": [
    "B = A.reshape((-1))\n",
    "_, counts = np.unique(B, return_counts=True)\n",
    "unique, indices = np.unique(B, return_inverse=True)\n",
    "unique[indices][counts[indices] == 1]\n"
   ]
  },
  {
   "cell_type": "markdown",
   "metadata": {},
   "source": [
    "# Задание 2.11 (3 балла)\n",
    "\n",
    "Создайте одномерный массив размерности $200$, в котором каждый элемент - евклидово расстояние между соответствующей строкой `A` и \"средней\" строкой `A`"
   ]
  },
  {
   "cell_type": "code",
   "execution_count": null,
   "metadata": {},
   "outputs": [],
   "source": [
    "mean_row = np.mean(A, axis=0)\n",
    "np.sqrt(np.sum((A - mean_row) ** 2, axis=1))"
   ]
  },
  {
   "cell_type": "markdown",
   "metadata": {},
   "source": [
    "# Задание 2.12 (2 балла)\n",
    "\n",
    "Создайте новый массив, который состоит из элементов `A`, измененных по следующим правилам:\n",
    "- если элемент меньше $50$, то он умножается на $2$\n",
    "- в противном случае он умножается на $3$\n",
    "\n",
    "Используйте [np.where()](https://numpy.org/doc/stable/reference/generated/numpy.where.html)"
   ]
  },
  {
   "cell_type": "code",
   "execution_count": null,
   "metadata": {},
   "outputs": [],
   "source": [
    "np.where(A < 50, A * 2, A * 3)"
   ]
  },
  {
   "cell_type": "markdown",
   "metadata": {},
   "source": [
    "# Задание 2.13 (7 баллов)\n",
    "\n",
    "Разверните массив `A` в одномерный массив. Создайте три новых массива, подсчитав скользящие средние по окнам $3$, $5$, $10$. Найдите сумму этих массивов, выровнив из размерности нулями справа\n",
    "\n",
    "*Tip: реализуйте функцию, которая считает скользящее среднее. Используйте [np.cumsum()](https://numpy.org/doc/stable/reference/generated/numpy.cumsum.html) или [np.convolve()](https://numpy.org/doc/stable/reference/generated/numpy.convolve.html)*"
   ]
  },
  {
   "cell_type": "code",
   "execution_count": null,
   "metadata": {},
   "outputs": [],
   "source": [
    "import numpy.typing as npt\n",
    "\n",
    "\n",
    "def moving_average(arr: npt.NDArray[np.float_], n: int) -> npt.NDArray[np.float_]:\n",
    "    return np.convolve(arr, np.ones(n), mode=\"valid\") / n"
   ]
  },
  {
   "cell_type": "code",
   "execution_count": null,
   "metadata": {},
   "outputs": [],
   "source": [
    "D = A.reshape((-1, )).copy()\n",
    "window3 = moving_average(D, 3)\n",
    "window5 = moving_average(D, 5)\n",
    "window10 = moving_average(D, 10)\n",
    "window5.resize(window3.shape, refcheck=False)\n",
    "window10.resize(window3.shape, refcheck=False)\n",
    "window3 + window5 + window10"
   ]
  },
  {
   "cell_type": "markdown",
   "metadata": {},
   "source": [
    "# Задание 2.14 (8 баллов)\n",
    "\n",
    "Постройте график функции $$f(x) = (5  \\sin(2x) - \\cos^2(x) - 1 + |x^3| - x^2) / (x^2 + 1)$$  \n",
    "\n",
    "и производной от этой функции.  Найдите минимум с помощью `scipy` и обозначьте его на графике. На этой же оси постройте графики скользящего среднего этой функции с окном $1$, $2$, $5$."
   ]
  },
  {
   "cell_type": "code",
   "execution_count": null,
   "metadata": {},
   "outputs": [],
   "source": [
    "def func(x: npt.ArrayLike) -> npt.NDArray[np.float_]:\n",
    "    res = (5 * np.sin(2 * x) - np.cos(x) ** 2 - 1 + np.abs(x ** 3) - x ** 2) / (x ** 2 + 1)\n",
    "    return res"
   ]
  },
  {
   "cell_type": "code",
   "execution_count": null,
   "metadata": {},
   "outputs": [],
   "source": [
    "from scipy.misc import derivative\n",
    "from scipy.optimize import minimize\n",
    "\n",
    "x_min = minimize(func, 0).x"
   ]
  },
  {
   "cell_type": "code",
   "execution_count": null,
   "metadata": {},
   "outputs": [],
   "source": [
    "x = np.linspace(-10, 10, 1000)\n",
    "plt.plot(x, func(x), label=\"$f(x)$\")\n",
    "plt.plot(x, derivative(func, x, dx=10 ** (-6)), label=\"$f'(x)$\")\n",
    "plt.scatter(x_min, func(x_min), c=\"r\", label=\"$\\min{}f(x)$\")\n",
    "plt.legend()\n",
    "plt.show()"
   ]
  },
  {
   "cell_type": "code",
   "execution_count": null,
   "metadata": {},
   "outputs": [],
   "source": [
    "x = np.linspace(-3, 3, 40)\n",
    "plt.plot(x, func(x), label=\"$f(x)$\")\n",
    "plt.plot(x, moving_average(func(x), 1), label=\"wind1\")\n",
    "plt.plot(x[1:], moving_average(func(x), 2), label=\"wind2\")\n",
    "plt.plot(x[2:-2], moving_average(func(x), 5), label=\"wind5\")\n",
    "plt.legend()\n",
    "plt.show()"
   ]
  },
  {
   "cell_type": "markdown",
   "metadata": {},
   "source": [
    "Скользящее среднее с окном 1 совпадает с исходной функцией $f(x)$. "
   ]
  },
  {
   "cell_type": "markdown",
   "metadata": {},
   "source": [
    "# Задание 2.15 (10 баллов)\n",
    "\n",
    "Есть следующий алгоритм семплинирования, на вход функции подается вектор из целых положительных чисел и число семплов."
   ]
  },
  {
   "cell_type": "code",
   "execution_count": null,
   "metadata": {},
   "outputs": [],
   "source": [
    "from typing import List \n",
    "\n",
    "def sample(x: List[int], c: int) -> List[int]:\n",
    "    assert len(x) > 0\n",
    "    \n",
    "    s = np.sum(x)\n",
    "    res = []\n",
    "    for _ in range(c):\n",
    "        val = s * np.random.random()\n",
    "        cur, idx = 0, 0        \n",
    "        while cur + x[idx] <= val:\n",
    "            cur += x[idx]\n",
    "            idx += 1\n",
    "            \n",
    "        res.append(idx)\n",
    "    return res\n",
    "\n",
    "            \n",
    "s = sample([30, 3, 20, 7, 20], 20)   "
   ]
  },
  {
   "cell_type": "markdown",
   "metadata": {},
   "source": [
    "Реализуйте данный алгоритм более оптимальным способом на массивах `numpy`, без использования циклов. Проверьте корректность и идентичность алгоритмов семплирования с помощью статистических тестов."
   ]
  },
  {
   "cell_type": "code",
   "execution_count": null,
   "metadata": {},
   "outputs": [],
   "source": [
    "def np_sample(x: npt.ArrayLike, c: int) -> npt.NDArray[np.int_]:\n",
    "    x = np.array(x)\n",
    "    x_rep = np.repeat(x.reshape((-1, 1)), c, axis=1)\n",
    "    x_sum = x_rep.sum(axis=0)\n",
    "    x_cumsum = x_rep.cumsum(axis=0)\n",
    "    rand = x_sum * np.random.random(x_sum.shape)\n",
    "    comparasion = x_cumsum < rand\n",
    "    return comparasion.sum(axis=0)\n",
    "    \n",
    "\n",
    "np_s = np_sample([30, 3, 20, 7, 20], 20)\n"
   ]
  },
  {
   "cell_type": "markdown",
   "metadata": {},
   "source": [
    "Используем критерии однородности, чтобы проверить, что `s` и `np_s` взяты из одного распределения вероятностей."
   ]
  },
  {
   "cell_type": "code",
   "execution_count": null,
   "metadata": {},
   "outputs": [],
   "source": [
    "from scipy.stats import mannwhitneyu, wilcoxon, kstest\n",
    "\n",
    "\n",
    "wilcoxon(s, np_s)"
   ]
  },
  {
   "cell_type": "code",
   "execution_count": null,
   "metadata": {},
   "outputs": [],
   "source": [
    "mannwhitneyu(s, np_s)"
   ]
  },
  {
   "cell_type": "code",
   "execution_count": null,
   "metadata": {},
   "outputs": [],
   "source": [
    "s = sample([30, 3, 20, 7, 20], 100)\n",
    "np_s = np_sample([30, 3, 20, 7, 20], 100)\n",
    "\n",
    "kstest(s, np_s)"
   ]
  },
  {
   "cell_type": "markdown",
   "metadata": {},
   "source": [
    "Значение **`p-value` > 0.05** для всех критериев. Значит можно принять нулевую гипотезу **H0** у всех критериев: выборки `s` и `np_s` принадлежат одному распределению."
   ]
  },
  {
   "cell_type": "markdown",
   "metadata": {},
   "source": [
    "# Задание 2.16 (5 баллов)\n",
    "\n",
    "Есть следующий алгоритм \"случайного блуждания\""
   ]
  },
  {
   "cell_type": "code",
   "execution_count": null,
   "metadata": {},
   "outputs": [],
   "source": [
    "import random \n",
    "\n",
    "def walk(n: int):\n",
    "    cur_position = 0\n",
    "    for i in range(n):\n",
    "        cur_position += random.choice([-3, -1, 0, 2, 3])\n",
    "\n",
    "    return cur_position"
   ]
  },
  {
   "cell_type": "markdown",
   "metadata": {},
   "source": [
    "Реализуйте более эффективную версию с помощью `numpy`, сравните производительность (используя, например, magic `timeit`). Воспользовавшись [kdeplot()](https://seaborn.pydata.org/generated/seaborn.kdeplot.html) или аналогами, постройте график распределения значений `walk(10_000)` на каком-то разумном числе запусков. "
   ]
  },
  {
   "cell_type": "code",
   "execution_count": null,
   "metadata": {},
   "outputs": [],
   "source": [
    "def np_walk(n: int) -> np.int_:\n",
    "    rand_move = np.random.choice([-3, -1, 0, 2, 3], size=n)\n",
    "    position = np.cumsum(rand_move)\n",
    "    return position[-1]"
   ]
  },
  {
   "cell_type": "code",
   "execution_count": null,
   "metadata": {},
   "outputs": [],
   "source": [
    "%timeit walk(10_000)"
   ]
  },
  {
   "cell_type": "code",
   "execution_count": null,
   "metadata": {},
   "outputs": [],
   "source": [
    "%timeit np_walk(10_000)"
   ]
  },
  {
   "cell_type": "code",
   "execution_count": null,
   "metadata": {},
   "outputs": [],
   "source": [
    "walk_arr = np.array([np_walk(10_000) for _ in range(10000)])\n",
    "sns.kdeplot(walk_arr)"
   ]
  },
  {
   "cell_type": "markdown",
   "metadata": {},
   "source": [
    "# Задание 2.17 (5 баллов)\n",
    "\n",
    "Имеется функция, которая проделывает достаточно странные манипуляции с массивом `numpy`"
   ]
  },
  {
   "cell_type": "code",
   "execution_count": null,
   "metadata": {},
   "outputs": [],
   "source": [
    "import numpy.typing as npt\n",
    "\n",
    "\n",
    "def strange_conv(a: npt.NDArray[np.float64]) -> np.float64:\n",
    "    x = a.shape[0]\n",
    "    y = a.shape[1]\n",
    "\n",
    "    t = 1.\n",
    "    for y in range(y - 5):\n",
    "        for x in range(x - 3):\n",
    "            c = 1.5 * a[y+1, x+2] - a[y+5, x+3] * a[y, x] + 0.2 * a[y+4, x]\n",
    "            t = 0.2 * t + 0.8 * c\n",
    "\n",
    "    return t\n",
    "\n",
    "\n",
    "a = np.random.random((10000, 10000))\n",
    "%timeit -r 3 strange_conv(a)"
   ]
  },
  {
   "cell_type": "markdown",
   "metadata": {},
   "source": [
    "Оптимизируйте данную функцию с помощью (2 на выбор):\n",
    "- [Numba](https://numba.pydata.org)\n",
    "- `Cython` (+5 баллов)\n",
    "- [Taichi](https://github.com/taichi-dev/taichi) (+5 баллов)\n",
    "- `Pythran `[[1]](https://pythran.readthedocs.io/en/latest/), [[2]](https://serge-sans-paille.github.io/pythran-stories/pythran-tutorial.html) (+2 балла)\n",
    "\n",
    "Сравните производительность."
   ]
  },
  {
   "cell_type": "code",
   "execution_count": null,
   "metadata": {},
   "outputs": [],
   "source": [
    "import numba\n",
    "%load_ext cython"
   ]
  },
  {
   "cell_type": "code",
   "execution_count": null,
   "metadata": {},
   "outputs": [],
   "source": [
    "numba_strange_conv = numba.jit(strange_conv)\n",
    "%timeit numba_strange_conv(a)"
   ]
  },
  {
   "cell_type": "code",
   "execution_count": null,
   "metadata": {},
   "outputs": [],
   "source": [
    "%%cython\n",
    "\n",
    "cimport numpy\n",
    "\n",
    "\n",
    "def cython_strange_conv(numpy.ndarray[\"double\", ndim=2] a):\n",
    "    cdef int x = a.shape[0]\n",
    "    cdef int y = a.shape[1]\n",
    "\n",
    "    cdef double t = 1.\n",
    "    for y in range(y - 5):\n",
    "        for x in range(x - 3):\n",
    "            c = 1.5 * a[y+1, x+2] - a[y+5, x+3] * a[y, x] + 0.2 * a[y+4, x]\n",
    "            t = 0.2 * t + 0.8 * c\n",
    "\n",
    "    return t"
   ]
  },
  {
   "cell_type": "code",
   "execution_count": null,
   "metadata": {},
   "outputs": [],
   "source": [
    "%timeit cython_strange_conv(a)"
   ]
  }
 ],
 "metadata": {
  "kernelspec": {
   "display_name": "Python 3.10.6 ('python_for_DA')",
   "language": "python",
   "name": "python3"
  },
  "language_info": {
   "codemirror_mode": {
    "name": "ipython",
    "version": 3
   },
   "file_extension": ".py",
   "mimetype": "text/x-python",
   "name": "python",
   "nbconvert_exporter": "python",
   "pygments_lexer": "ipython3",
   "version": "3.10.6"
  },
  "orig_nbformat": 4,
  "vscode": {
   "interpreter": {
    "hash": "cf4890a03c1f6a539df259a4c0ccac30535ca023772bb9709d32cf280e723d37"
   }
  }
 },
 "nbformat": 4,
 "nbformat_minor": 2
}
