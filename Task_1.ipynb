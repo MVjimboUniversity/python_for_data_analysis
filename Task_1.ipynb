{
 "cells": [
  {
   "cell_type": "markdown",
   "metadata": {},
   "source": [
    "# Задание 1"
   ]
  },
  {
   "cell_type": "markdown",
   "metadata": {},
   "source": [
    "## Задание 1.1 (5 баллов)\n",
    "\n",
    "Реализован код для [автоматического дифференцирования](https://en.wikipedia.org/wiki/Automatic_differentiation), поддерживаются следующие операции:\n",
    "- сложение\n",
    "- умножение\n",
    "- вычитание\n",
    "- унарные операции\n",
    "- деление\n",
    "- возведение в степень\n"
   ]
  },
  {
   "cell_type": "code",
   "execution_count": null,
   "metadata": {},
   "outputs": [],
   "source": [
    "from dataclasses import dataclass\n",
    "from typing import Union, Callable\n",
    "from numbers import Number\n",
    "import math\n",
    "\n",
    "@dataclass\n",
    "class Dual:\n",
    "    value: float\n",
    "    d: float\n",
    "\n",
    "    def __add__(self, other: Union[\"Dual\", Number]) -> \"Dual\":\n",
    "        match other:\n",
    "            case Dual(o_value, o_d):\n",
    "                return Dual(self.value + o_value, self.d + o_d)\n",
    "            case Number():\n",
    "                return Dual(float(other) + self.value, self.d)\n",
    "\n",
    "    def __mul__(self, other: Union[\"Dual\", Number]) -> \"Dual\":\n",
    "        match other:\n",
    "            case Dual(o_value, o_d):\n",
    "                return Dual(self.value * o_value, self.value * o_d + self.d * o_value)\n",
    "            case Number():\n",
    "                return Dual(float(other) * self.value, float(other) * self.d)    \n",
    "\n",
    "    __rmul__ = __mul__  # https://docs.python.org/3/reference/datamodel.html#object.__mul__\n",
    "    __radd__ = __add__  # https://docs.python.org/3/reference/datamodel.html#object.__radd__\n",
    "\n",
    "    def __neg__(self) -> \"Dual\":\n",
    "        return Dual(-self.value, -self.d)\n",
    "\n",
    "    def __truediv__(self, other: Union[\"Dual\", Number]) -> \"Dual\":\n",
    "        match other:\n",
    "            case Dual(o_value, o_d):\n",
    "                return Dual(self.value / o_value, (self.d * o_value - self.value * o_d) / (o_value ** 2))\n",
    "            case Number():\n",
    "                return Dual(self.value / float(other), self.d / float(other))\n",
    "\n",
    "    def __rtruediv__(self, other: Number) -> \"Dual\":\n",
    "        return Dual(float(other) / self.value, - float(other) * self.d/ self.value ** 2)\n",
    "\n",
    "    def __pow__(self, other: Union[\"Dual\", Number]) -> \"Dual\":\n",
    "        match other:\n",
    "            case Dual(o_value, o_d):\n",
    "                return Dual(self.value ** o_value, o_value * self.value ** (o_value - 1) * self.d + self.value ** o_value * o_d * math.log(self.value))\n",
    "            case Number():\n",
    "                return Dual(self.value ** float(other), float(other) * self.value ** (float(other) - 1) * self.d)\n",
    "    \n",
    "    def __rpow__(self, other: Number) -> \"Dual\":\n",
    "        return Dual(float(other) ** self.value, float(other) ** self.value * math.log(float(other)) * self.d)\n",
    "\n",
    "    def __sub__(self, other: Union[\"Dual\", Number]) -> \"Dual\":\n",
    "        match other:\n",
    "            case Dual(o_value, o_d):\n",
    "                return Dual(self.value - o_value, self.d - o_d)\n",
    "            case Number():\n",
    "                return Dual(self.value - float(other), self.d)\n",
    "\n",
    "    def __rsub__(self, other: Number) -> \"Dual\":\n",
    "        return Dual(other - self.value, self.d)\n",
    " \n",
    "\n",
    "def diff(func: Callable[[float], float]) -> Callable[[float], float]:\n",
    "    return lambda x: func(Dual(x, 1.0)).d "
   ]
  },
  {
   "cell_type": "markdown",
   "metadata": {},
   "source": [
    "##### Применение"
   ]
  },
  {
   "cell_type": "code",
   "execution_count": null,
   "metadata": {},
   "outputs": [],
   "source": [
    "def f(x: float) -> float:\n",
    "    return 5 * x * x + 2 * x + 2\n",
    "\n",
    "f_diff = diff(f)\n",
    "\n",
    "f_diff(2)"
   ]
  },
  {
   "cell_type": "code",
   "execution_count": null,
   "metadata": {},
   "outputs": [],
   "source": [
    "def automatic_diff(f: Callable[[float], float], x: float) -> float:\n",
    "    f_diff = diff(f)\n",
    "    return f_diff(x)"
   ]
  },
  {
   "cell_type": "markdown",
   "metadata": {},
   "source": [
    "##### Тесты"
   ]
  },
  {
   "cell_type": "code",
   "execution_count": null,
   "metadata": {},
   "outputs": [],
   "source": [
    "assert abs(automatic_diff(lambda x: - 12 / x ** 3 + 4 ** x, 12) - 23258159.937827) < 0.001\n",
    "assert abs(automatic_diff(lambda x: 5 * x ** 2 + 2 * x + 2, 2) - 22) < 0.001\n",
    "assert abs(automatic_diff(lambda x: 5 * x ** (2 * x) + 10 * x, 3) - 15308.88358) < 0.001\n",
    "assert abs(automatic_diff(lambda x: - x - 5 - x ** 4, 3) + 109) < 0.001"
   ]
  },
  {
   "cell_type": "markdown",
   "metadata": {},
   "source": [
    "## Задание 1.2 (7 баллов)\n",
    "Реализована поддержка функций:\n",
    "- `exp()`\n",
    "- `cos()`\n",
    "- `sin()`\n",
    "- `log()`"
   ]
  },
  {
   "cell_type": "code",
   "execution_count": null,
   "metadata": {},
   "outputs": [],
   "source": [
    "def exp(obj: Union[\"Dual\", Number]) -> Union[\"Dual\", Number]:\n",
    "    match obj:\n",
    "        case Dual(o_value, o_d):\n",
    "            return Dual(math.exp(o_value), math.exp(o_value) * o_d)\n",
    "        case Number():\n",
    "            return math.exp(float(obj))\n",
    "\n",
    "def log(obj: Union[\"Dual\", Number]) -> Union[\"Dual\", Number]:\n",
    "    match obj:\n",
    "        case Dual(o_value, o_d):\n",
    "            return Dual(math.log(o_value), o_d / o_value)\n",
    "        case Number():\n",
    "            return math.log(float(obj))\n",
    "\n",
    "def cos(obj: Union[\"Dual\", Number]) -> Union[\"Dual\", Number]:\n",
    "    match obj:\n",
    "        case Dual(o_value, o_d):\n",
    "            return Dual(math.cos(o_value), - math.sin(o_value) * o_d)\n",
    "        case Number():\n",
    "            return math.cos(float(obj))\n",
    "\n",
    "def sin(obj: Union[\"Dual\", Number]) -> Union[\"Dual\", Number]:\n",
    "    match obj:\n",
    "        case Dual(o_value, o_d):\n",
    "            return Dual(math.sin(o_value), math.cos(o_value) * o_d)\n",
    "        case Number():\n",
    "            return math.sin(float(obj))"
   ]
  },
  {
   "cell_type": "markdown",
   "metadata": {},
   "source": [
    "##### Тесты"
   ]
  },
  {
   "cell_type": "code",
   "execution_count": null,
   "metadata": {},
   "outputs": [],
   "source": [
    "assert abs(automatic_diff(lambda x: cos(x ** 2 + 2 / x), 3) - 1.383990) < 0.001\n",
    "assert abs(automatic_diff(lambda x: 2 * sin(x ** 2) + log(3 * x) ** 2, 10) - 35.172994) < 0.001\n",
    "assert abs(automatic_diff(lambda x: -x * sin(20 / x), 11) + 1.414774) < 0.001\n",
    "assert abs(automatic_diff(lambda x: exp(3) * exp(x), 2) - 148.413159) < 0.001"
   ]
  },
  {
   "cell_type": "markdown",
   "metadata": {},
   "source": [
    "## Задание 1.3 (3 балла)\n",
    "\n",
    "Реализуем функцию **численного** дифференцирования (+5 баллов) и сравним ее с функцией `derivative` из библиотеки `scipy`."
   ]
  },
  {
   "cell_type": "code",
   "execution_count": null,
   "metadata": {},
   "outputs": [],
   "source": [
    "from scipy.misc import derivative\n",
    "\n",
    "def f(x: float) -> float:\n",
    "    return 5 * x * x + 2 * x + 2\n",
    "\n",
    "derivative(f, 2.)"
   ]
  },
  {
   "cell_type": "code",
   "execution_count": null,
   "metadata": {},
   "outputs": [],
   "source": [
    "def numerical_diff(f: Callable[[float], float], x: float, h: float = 0.1) -> float:\n",
    "    return (f(x+h) - f(x-h)) / (2 * h)"
   ]
  },
  {
   "cell_type": "code",
   "execution_count": null,
   "metadata": {},
   "outputs": [],
   "source": [
    "derivative(f, 2)"
   ]
  },
  {
   "cell_type": "code",
   "execution_count": null,
   "metadata": {},
   "outputs": [],
   "source": [
    "numerical_diff(f, 2)"
   ]
  },
  {
   "cell_type": "markdown",
   "metadata": {},
   "source": [
    "Сравним результаты **численного** и **автоматического** дифференцирования."
   ]
  },
  {
   "cell_type": "code",
   "execution_count": null,
   "metadata": {},
   "outputs": [],
   "source": [
    "from typing import Any\n",
    "\n",
    "def compare(f: Callable[[float], float], x: float, eps: float = 0.001, **kwargs: Any):\n",
    "    assert abs(automatic_diff(f, x) - numerical_diff(f, x, **kwargs)) < eps, \"Too big difference\""
   ]
  },
  {
   "cell_type": "code",
   "execution_count": null,
   "metadata": {},
   "outputs": [],
   "source": [
    "compare(lambda x: - 12 / x ** 3 + 4 ** x, 10, eps = 1, h = 0.0000001)\n",
    "compare(lambda x: 5 * x ** 2 + 2 * x + 2, 2)\n",
    "compare(lambda x: 5 * x ** (2 * x) + 10 * x, 3, h = 0.0001)\n",
    "compare(lambda x: - x - 5 - x ** 4, 3, h = 0.001)\n",
    "compare(lambda x: exp(3) * exp(x), 2, h = 0.001)\n",
    "compare(lambda x: cos(x ** 2 + 2 / x), 3, h = 0.01)\n",
    "compare(lambda x: 2 * sin(x ** 2) + log(3 * x) ** 2, 10, h = 0.0001)\n",
    "compare(lambda x: -x * sin(20 / x), 11)"
   ]
  },
  {
   "cell_type": "markdown",
   "metadata": {},
   "source": [
    "## Задание 1.5 (7 баллов)\n",
    "\n",
    "Реализована поддержка функций нескольких аргументов. Например\n",
    "\n",
    "```python\n",
    "def f(x: float, y: float, z: float) -> float:\n",
    "    return x * y + z - 5 * y  \n",
    "\n",
    "\n",
    "f_diff = diff(f)\n",
    "\n",
    "f_diff(10, 10, 10) # = [10, 5, 1]\n",
    "```"
   ]
  },
  {
   "cell_type": "code",
   "execution_count": null,
   "metadata": {},
   "outputs": [],
   "source": [
    "def diff(f: Callable[[Any], float]) -> Callable[[Any], float]:\n",
    "    def _new_f(*args):\n",
    "        diff_for_arg = []\n",
    "        for i, arg in enumerate(args):\n",
    "            new_args = args[0:i] + (Dual(arg, 1),) + args[i+1:]\n",
    "            diff_for_arg.append(f(*new_args).d)\n",
    "        return diff_for_arg\n",
    "    return _new_f"
   ]
  },
  {
   "cell_type": "code",
   "execution_count": null,
   "metadata": {},
   "outputs": [],
   "source": [
    "@diff\n",
    "def f(x: float, y: float, z: float) -> float:\n",
    "    return x * y + z - 5 * y  \n",
    "\n",
    "f(10, 10, 10)"
   ]
  }
 ],
 "metadata": {
  "kernelspec": {
   "display_name": "Python 3.10.6 ('python_for_DA')",
   "language": "python",
   "name": "python3"
  },
  "language_info": {
   "codemirror_mode": {
    "name": "ipython",
    "version": 3
   },
   "file_extension": ".py",
   "mimetype": "text/x-python",
   "name": "python",
   "nbconvert_exporter": "python",
   "pygments_lexer": "ipython3",
   "version": "3.10.6"
  },
  "orig_nbformat": 4,
  "vscode": {
   "interpreter": {
    "hash": "cf4890a03c1f6a539df259a4c0ccac30535ca023772bb9709d32cf280e723d37"
   }
  }
 },
 "nbformat": 4,
 "nbformat_minor": 2
}
