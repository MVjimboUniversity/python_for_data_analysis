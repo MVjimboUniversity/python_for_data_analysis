{
 "cells": [
  {
   "cell_type": "markdown",
   "metadata": {},
   "source": [
    "# Задание 3.\n",
    "\n",
    "Загрузите [данные по изменению температуры поверхности земли](https://www.kaggle.com/datasets/berkeleyearth/climate-change-earth-surface-temperature-data). Для этого может понадобится зарегистрироваться на [Kaggle](https://kaggle.com). Затем нужно будет работать с данными, которые содержатся в файле **GlobalLandTemperaturesByMajorCity.csv**"
   ]
  },
  {
   "cell_type": "code",
   "execution_count": null,
   "metadata": {},
   "outputs": [],
   "source": [
    "import zipfile\n",
    "\n",
    "import pandas as pd\n",
    "import numpy as np\n",
    "import seaborn as sns\n",
    "import matplotlib.pyplot as plt\n",
    "\n",
    "%matplotlib inline\n",
    "\n",
    "sns.set_theme()\n",
    "\n",
    "with zipfile.ZipFile(\"archive.zip\") as z:\n",
    "    with z.open(\"GlobalLandTemperaturesByMajorCity.csv\") as f:\n",
    "        df = pd.read_csv(f, parse_dates=[\"dt\"])\n",
    "\n",
    "df.head()"
   ]
  },
  {
   "cell_type": "code",
   "execution_count": null,
   "metadata": {},
   "outputs": [],
   "source": [
    "df.tail()"
   ]
  },
  {
   "cell_type": "markdown",
   "metadata": {},
   "source": [
    "# Задание 3.1 (1 балл)\n",
    "\n",
    "В последующих заданиях будут учитываться данные начиная с 01.01.1950. Для этого создайте новый `DataFrame`, в котором удалены все строки до 01.01.1950. Используйте созданный DataFrame в последующих заданиях.  "
   ]
  },
  {
   "cell_type": "code",
   "execution_count": null,
   "metadata": {},
   "outputs": [],
   "source": [
    "df[\"dt\"] = pd.to_datetime(df[\"dt\"], yearfirst=True)\n",
    "df = df.loc[df[\"dt\"] > \"1950-01-01\"]\n",
    "df.head()"
   ]
  },
  {
   "cell_type": "markdown",
   "metadata": {},
   "source": [
    "# Задание 3.2 (2 балла)\n",
    "\n",
    "Постройте график среднегодовых температур в городе Торонто."
   ]
  },
  {
   "cell_type": "code",
   "execution_count": null,
   "metadata": {},
   "outputs": [],
   "source": [
    "df.loc[df[\"City\"] == \"Toronto\", [\"dt\", \"AverageTemperature\"]].groupby(pd.Grouper(key=\"dt\", freq=\"Y\")).mean().plot()"
   ]
  },
  {
   "cell_type": "markdown",
   "metadata": {},
   "source": [
    "# Задание 3.3 (2 балла)\n",
    "\n",
    "Найдите город, для которого выборочная дисперсия температур на приведенных данных максимальна. "
   ]
  },
  {
   "cell_type": "code",
   "execution_count": null,
   "metadata": {},
   "outputs": [],
   "source": [
    "df.loc[:, [\"City\", \"AverageTemperature\"]].groupby(\"City\", dropna=True).var().sort_values(by=\"AverageTemperature\", ascending=False).iloc[0].name"
   ]
  },
  {
   "cell_type": "markdown",
   "metadata": {},
   "source": [
    "# Задание 3.4 (4 балла)\n",
    "\n",
    "На одной оси постройте графики, отображающие:\n",
    "1. Зависимость выборочной дисперсии температур от широты города (Latitude).\n",
    "2. Зависимость средней температуры в январе 1975 года от широты города (Latitude).\n",
    "3. Зависимость средней температуры в июле 1975 года от широты города (Latitude)."
   ]
  },
  {
   "attachments": {},
   "cell_type": "markdown",
   "metadata": {},
   "source": [
    "Присвоим северным широтам полжительные значения, а южным - отрицательные."
   ]
  },
  {
   "cell_type": "code",
   "execution_count": null,
   "metadata": {},
   "outputs": [],
   "source": [
    "df.loc[:, \"Latitude_Int\"] = df[\"Latitude\"].apply(lambda x: float(x[:-1]) if x[-1] == \"N\" else -float(x[:-1]))"
   ]
  },
  {
   "cell_type": "code",
   "execution_count": null,
   "metadata": {},
   "outputs": [],
   "source": [
    "ax = df.loc[:, [\"Latitude_Int\", \"AverageTemperature\"]].groupby(\"Latitude_Int\").var().plot()\n",
    "df.loc[(df[\"dt\"].dt.year == 1975) & (df[\"dt\"].dt.month == 1), [\"Latitude_Int\", \"AverageTemperature\"]].groupby(\"Latitude_Int\").mean().plot(ax=ax)\n",
    "df.loc[(df[\"dt\"].dt.year == 1975) & (df[\"dt\"].dt.month == 7), [\"Latitude_Int\", \"AverageTemperature\"]].groupby(\"Latitude_Int\").mean().plot(ax=ax)"
   ]
  },
  {
   "cell_type": "markdown",
   "metadata": {},
   "source": [
    "# Задание 3.5 (6 баллов)\n",
    "\n",
    "Посчитайте данные по среднегодовой температуре в Санкт-Петербурге. Определите года, в которых средняя температура была выше, чем в предыдущем  и последующем году. Постройте график среднегодовой температуры и обозначьте на нём найденные года (произвольным образом). \n",
    "\n",
    "Постройте модель линейной регрессии (можно использовать [LinearRegression](https://scikit-learn.org/stable/modules/generated/sklearn.linear_model.LinearRegression.html)): $\\mathbb{год} \\rightarrow \\mathbb{средняя\\_температура}$. Отобразите прямую на предыдущем графике. "
   ]
  },
  {
   "cell_type": "code",
   "execution_count": null,
   "metadata": {},
   "outputs": [],
   "source": [
    "from sklearn.linear_model import LinearRegression\n",
    "\n",
    "avg_tmp = df.loc[df[\"City\"] == \"Saint Petersburg\", [\"dt\", \"AverageTemperature\"]].groupby(pd.Grouper(key=\"dt\", freq=\"Y\")).mean()\n",
    "\n",
    "high_tmp = avg_tmp.loc[(((avg_tmp[\"AverageTemperature\"] - avg_tmp[\"AverageTemperature\"].shift(periods=-1)) > 0) & \\\n",
    "    ((avg_tmp[\"AverageTemperature\"] - avg_tmp[\"AverageTemperature\"].shift(periods=1)) > 0))]\n",
    "\n",
    "lr = LinearRegression()\n",
    "lr.fit(np.reshape(avg_tmp.index.year, (-1, 1)), avg_tmp[\"AverageTemperature\"])\n",
    "pred_temp = lr.predict(np.reshape(avg_tmp.index.year, (-1, 1)))\n",
    "\n",
    "fig, ax = plt.subplots()\n",
    "avg_tmp.plot(ax=ax)\n",
    "# ax.plot(high_tmp.index, high_tmp[\"AverageTemperature\"], 'ro', label=\"HighTemperature\")\n",
    "high_tmp.reset_index().plot(\"dt\", \"AverageTemperature\", color=\"r\", kind=\"scatter\", ax=ax, label=\"HighTemperature\")\n",
    "ax.plot(avg_tmp.index, pred_temp, label=\"LinearRegression\")\n",
    "ax.legend()"
   ]
  },
  {
   "cell_type": "markdown",
   "metadata": {},
   "source": [
    "# Задание 3.6 (4 балла)\n",
    "\n",
    "Найдите города, для которых: \n",
    "1. Разница между максимальным и минимальным значением среднегодовой температуры в выборке максимальна.\n",
    "2. Самая большая средняя разница между средней температурой января и средней температурой июля.\n",
    "3. Наибольшее среднее количество месяцев с отрицательной температурой в году."
   ]
  },
  {
   "attachments": {},
   "cell_type": "markdown",
   "metadata": {},
   "source": [
    "##### 1. Разница между максимальным и минимальным значением среднегодовой температуры в выборке максимальна."
   ]
  },
  {
   "cell_type": "code",
   "execution_count": null,
   "metadata": {},
   "outputs": [],
   "source": [
    "mean_temp_year = df[[\"dt\", \"City\", \"AverageTemperature\"]].groupby([\"City\", pd.Grouper(key=\"dt\", freq=\"Y\")],).mean()\n",
    "city1 = (mean_temp_year.groupby(\"City\").max() - mean_temp_year.groupby(\"City\").min())[\"AverageTemperature\"].idxmax()\n",
    "city1"
   ]
  },
  {
   "attachments": {},
   "cell_type": "markdown",
   "metadata": {},
   "source": [
    "##### 2. Самая большая средняя разница между средней температурой января и средней температурой июля."
   ]
  },
  {
   "cell_type": "code",
   "execution_count": null,
   "metadata": {},
   "outputs": [],
   "source": [
    "temp_df = df[[\"dt\", \"City\", \"AverageTemperature\"]]\n",
    "temp_df[\"Month\"] = df[\"dt\"].dt.month\n",
    "temp_grouped_df = temp_df[[\"City\", \"Month\", \"AverageTemperature\"]].groupby([\"City\", \"Month\"]).mean().reset_index()\n",
    "jan_temp_df = temp_grouped_df.loc[temp_grouped_df[\"Month\"] == 1].set_index(\"City\")\n",
    "jul_temp_df = temp_grouped_df.loc[temp_grouped_df[\"Month\"] == 7].set_index(\"City\")\n",
    "(jul_temp_df[\"AverageTemperature\"] - jan_temp_df[\"AverageTemperature\"]).abs().idxmax()"
   ]
  },
  {
   "attachments": {},
   "cell_type": "markdown",
   "metadata": {},
   "source": [
    "##### 3. Наибольшее среднее количество месяцев с отрицательной температурой в году."
   ]
  },
  {
   "cell_type": "code",
   "execution_count": null,
   "metadata": {},
   "outputs": [],
   "source": [
    "month_count = df.loc[df[\"AverageTemperature\"] < 0, [\"City\", \"AverageTemperature\"]].groupby(\"City\").count()\n",
    "month_count[\"AverageTemperature\"].idxmax()"
   ]
  },
  {
   "cell_type": "markdown",
   "metadata": {},
   "source": [
    "# Задание 3.7 (3 балла)\n",
    "\n",
    "Отобразите города на карте, например с помощью [geopandas/folium](https://geopandas.org/en/stable/gallery/plotting_with_folium.html) или [plotly](https://plotly.com/python-api-reference/generated/plotly.express.scatter_geo.html). Причем цвет метки должен соответствовать средней температуре в январе за последние 10 лет. \n",
    "\n",
    "\n",
    "**\\***(+3 балла). Вычислите прямую с \"трендом\" по изменению средней температуры за год в каждом городе в период 1950-2013 (можно с помощью линейной регрессии, как в задании **3.5**). Отобразите города цветом, который зависит от угла наклона этой прямой. \n",
    "\n",
    "\n",
    "**\\***(+1 балл) В дополнение к предыдущему пункту, используйте библиотеку [pwlf](https://pypi.org/project/pwlf/) с фиксированным числом сегментов и визуализируйте угол наклона последнего сегмента. "
   ]
  },
  {
   "cell_type": "code",
   "execution_count": null,
   "metadata": {},
   "outputs": [],
   "source": [
    "df_new = df.loc[(df[\"dt\"].dt.month == 1) & (df[\"dt\"].dt.year > 2003), [\"dt\", \"AverageTemperature\", \"City\", \"Country\", \"Latitude\", \"Longitude\"]]\n",
    "jan_mean_df = df_new.groupby([\"City\", \"Country\", \"Latitude\", \"Longitude\"]).mean().reset_index()\n",
    "jan_mean_df[\"Latitude\"] = jan_mean_df[\"Latitude\"].apply(lambda x: float(x[:-1]) if x[-1] == \"N\" else -float(x[:-1]))\n",
    "jan_mean_df[\"Longitude\"] = jan_mean_df[\"Longitude\"].apply(lambda x: float(x[:-1]) if x[-1] == \"E\" else -float(x[:-1]))\n",
    "jan_mean_df.head()"
   ]
  },
  {
   "cell_type": "code",
   "execution_count": null,
   "metadata": {},
   "outputs": [],
   "source": [
    "import geopandas as gpd\n",
    "\n",
    "geometry = gpd.points_from_xy(jan_mean_df[\"Latitude\"], jan_mean_df[\"Longitude\"])\n",
    "geo_df = gpd.GeoDataFrame(jan_mean_df, geometry=geometry)\n",
    "geo_df.head()"
   ]
  },
  {
   "cell_type": "code",
   "execution_count": null,
   "metadata": {},
   "outputs": [],
   "source": [
    "import plotly.express as px\n",
    "\n",
    "px.scatter_geo(geo_df,\n",
    "               lat = geo_df[\"geometry\"].x,\n",
    "               lon = geo_df[\"geometry\"].y,\n",
    "               projection=\"natural earth\",\n",
    "               hover_name=\"City\",\n",
    "               color=\"AverageTemperature\"\n",
    "               )"
   ]
  },
  {
   "cell_type": "markdown",
   "metadata": {},
   "source": [
    "# *Задание 3.8 (8 баллов)\n",
    "\n",
    "Цель - создать проект, который как минимум включает:\n",
    "1. Использование юнит-тестов ([pytest](https://pytest.org)).\n",
    "2. Применение средств форматирования и проверки исходного кода (например: [isort](https://pycqa.github.io/isort/), [black](https://black.readthedocs.io/en/stable/), [flake8](https://flake8.pycqa.org/en/latest/), [mypy](https://mypy.readthedocs.io/en/stable/)).\n",
    "3. Спецификацию проекта в [pyproject.toml](https://pip.pypa.io/en/stable/reference/build-system/pyproject-toml/).\n",
    "4. Использование утилит для работы с командной строкой ([argparse](https://docs.python.org/3/library/argparse.html), [click](https://click.palletsprojects.com/en/8.1.x/) и т.п.)\n",
    "5. Сборку проекта в Wheel-файл.\n",
    "\n",
    "Проект должен быть загружен в репозиторий. Функционал - произвольный, но должны использоваться данные из этого домашнего задания. Сам файл передается в качестве первого аргумента командной строки.  Например:\n",
    "\n",
    "> python3 -m homeproject.app GlobalLandTemperaturesByMajorCity.csv 1980\n",
    "\n",
    "Выдает самый жаркий месяц и город по наблюдениям за 1980 год."
   ]
  },
  {
   "cell_type": "markdown",
   "metadata": {},
   "source": [
    "*Ссылка на проект*"
   ]
  },
  {
   "attachments": {},
   "cell_type": "markdown",
   "metadata": {},
   "source": [
    "https://github.com/MVjimboUniversity/python_for_data_analysis/tree/main/hotest_month_city"
   ]
  }
 ],
 "metadata": {
  "kernelspec": {
   "display_name": "python_for_DA",
   "language": "python",
   "name": "python3"
  },
  "language_info": {
   "codemirror_mode": {
    "name": "ipython",
    "version": 3
   },
   "file_extension": ".py",
   "mimetype": "text/x-python",
   "name": "python",
   "nbconvert_exporter": "python",
   "pygments_lexer": "ipython3",
   "version": "3.10.6"
  },
  "orig_nbformat": 4,
  "vscode": {
   "interpreter": {
    "hash": "cf4890a03c1f6a539df259a4c0ccac30535ca023772bb9709d32cf280e723d37"
   }
  }
 },
 "nbformat": 4,
 "nbformat_minor": 2
}
